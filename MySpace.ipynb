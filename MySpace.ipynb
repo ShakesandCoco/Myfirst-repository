{
 "cells": [
  {
   "cell_type": "markdown",
   "id": "0aad68f6-bb88-4f21-96da-8061372a6b8d",
   "metadata": {},
   "source": [
    "## My Favourite Pasttime Activities\n",
    "### Listed According to Favourites\n",
    "\n",
    "Sleeping\n",
    "Eating\n",
    "Running\n",
    "Playing"
   ]
  },
  {
   "cell_type": "markdown",
   "id": "097fcdaf-ae1c-4597-a406-fcf7edfbde29",
   "metadata": {},
   "source": [
    "## This is the day that the Lord has made! Take heart and don't give up. "
   ]
  },
  {
   "cell_type": "code",
   "execution_count": 3,
   "id": "2f545bc0-cc0f-41ea-a369-7a3fb02440d8",
   "metadata": {},
   "outputs": [],
   "source": [
    "## My Favourite Past Times\n",
    "### Who Really Cares about what I do?\n",
    "\n",
    "# Eat\n",
    "# Sleep\n",
    "# Eat\n",
    "# Repeat"
   ]
  },
  {
   "cell_type": "markdown",
   "id": "3321d1c6-c6c8-40ea-8665-04af425a8a91",
   "metadata": {},
   "source": [
    "## My Favourite Past Times\n",
    "### Who Really Cares about what I do?\n",
    "\n",
    "# Eat\n",
    "# Sleep\n",
    "# Eat\n",
    "# Repeat"
   ]
  },
  {
   "cell_type": "markdown",
   "id": "c97226e2-a80f-4c2a-8beb-9730dbe1caf9",
   "metadata": {},
   "source": [
    "## My Favourite Past Times\n",
    "### Who Really Cares about what I do?\n",
    "\n",
    "### Eat\n",
    "### Sleep\n",
    "### Eat\n",
    "# Repeat"
   ]
  },
  {
   "cell_type": "markdown",
   "id": "3cf08153-5701-4451-8eb4-92210fdc3d09",
   "metadata": {},
   "source": [
    "## My Favourite Past Times\n",
    "### Who Really Cares about what I do?\n",
    "\n",
    "#### Eat\n",
    "#### Sleep\n",
    "#### Eat\n",
    "#### Repeat"
   ]
  },
  {
   "cell_type": "code",
   "execution_count": null,
   "id": "9157c82a-5e5e-488e-b738-22274dc353c3",
   "metadata": {},
   "outputs": [],
   "source": []
  }
 ],
 "metadata": {
  "kernelspec": {
   "display_name": "Python 3 (ipykernel)",
   "language": "python",
   "name": "python3"
  },
  "language_info": {
   "codemirror_mode": {
    "name": "ipython",
    "version": 3
   },
   "file_extension": ".py",
   "mimetype": "text/x-python",
   "name": "python",
   "nbconvert_exporter": "python",
   "pygments_lexer": "ipython3",
   "version": "3.12.7"
  }
 },
 "nbformat": 4,
 "nbformat_minor": 5
}
